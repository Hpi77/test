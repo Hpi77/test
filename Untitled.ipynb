{
 "cells": [
  {
   "cell_type": "markdown",
   "id": "2744643b",
   "metadata": {},
   "source": [
    "import spark package for data mining"
   ]
  },
  {
   "cell_type": "code",
   "execution_count": 10,
   "id": "26a8c5bb",
   "metadata": {},
   "outputs": [],
   "source": [
    "from pyspark.sql import SparkSession\n",
    "from pyspark.sql.functions import when, col, trim, lower, split, count, avg, format_number,isnan,sum as _sum\n",
    "from functools import reduce\n",
    "from pyspark.sql.types import (StructField, StringType, IntegerType, StructType, FloatType, DoubleType)\n",
    "from pyspark.ml.feature import StringIndexer, OneHotEncoder, PCA, MinMaxScaler, StandardScaler\n",
    "from pyspark.ml import Pipeline\n",
    "from pyspark.ml.regression import LinearRegression, DecisionTreeRegressor, RandomForestRegressor\n",
    "from pyspark.ml.evaluation import RegressionEvaluator\n",
    "from pyspark.ml.tuning import CrossValidator, ParamGridBuilder\n"
   ]
  },
  {
   "cell_type": "markdown",
   "id": "65179c26",
   "metadata": {},
   "source": [
    "read dataset"
   ]
  },
  {
   "cell_type": "code",
   "execution_count": 11,
   "id": "4f29efd2",
   "metadata": {},
   "outputs": [
    {
     "name": "stdout",
     "output_type": "stream",
     "text": [
      "Weather DataFrame:\n",
      "+---+---+---+-----+----+--------+\n",
      "|num|  X|  Y|   DC| ISI| country|\n",
      "+---+---+---+-----+----+--------+\n",
      "|  1|  7|  5| 94.3| 5.1|Portugal|\n",
      "|  2|  7|  4|669.1| 6.7|Portugal|\n",
      "|  3|  7|  4|686.9| 6.7|Portugal|\n",
      "|  4|  8|  6| 77.5| 9.0|Portugal|\n",
      "|  5|  8|  6|102.2| 9.6|Portugal|\n",
      "|  6|  8|  6|488.0|14.7|Portugal|\n",
      "|  7|  8|  6|495.6| 8.5|Portugal|\n",
      "|  8|  8|  6|608.2|10.7|Portugal|\n",
      "|  9|  8|  6|692.6| 7.0|Portugal|\n",
      "| 10|  7|  5|698.6| 7.1|Portugal|\n",
      "| 11|  7|  5|698.6| 7.1|Portugal|\n",
      "| 12|  7|  5|713.0|22.6|Portugal|\n",
      "| 13|  6|  5|665.3| 0.8|Portugal|\n",
      "| 14|  6|  5|686.5| 7.0|Portugal|\n",
      "| 15|  6|  5|699.6| 9.2|Portugal|\n",
      "| 16|  6|  5|713.9|13.9|Portugal|\n",
      "| 17|  5|  5| 80.8| 7.8|Portugal|\n",
      "| 18|  8|  5|664.2| 3.0|Portugal|\n",
      "| 19|  6|  4| 70.8| 6.3|Portugal|\n",
      "| 20|  6|  4| 97.1| 5.1|Portugal|\n",
      "+---+---+---+-----+----+--------+\n",
      "only showing top 20 rows\n",
      "\n",
      "Fires DataFrame:\n",
      "+---+---+---+-----+---+----+-----+----+---+----+----+----+---------+--------+\n",
      "|num|  X|  Y|month|day|FFMC|  DMC|temp| RH|wind|rain|area|passenger| country|\n",
      "+---+---+---+-----+---+----+-----+----+---+----+----+----+---------+--------+\n",
      "|  1|  7|  5|  mar|fri|86.2| 26.2| 8.2| 51| 6.7| 0.0| 0.0|      898|Portugal|\n",
      "|  2|  7|  4|  oct|tue|90.6| 35.4|18.0| 33| 0.9| 0.0| 0.0|       71|Portugal|\n",
      "|  3|  7|  4|  oct|sat|90.6| 43.7|14.6| 33| 1.3| 0.0| 0.0|      900|Portugal|\n",
      "|  4|  8|  6|  mar|fri|91.7| 33.3| 8.3| 97| 4.0| 0.2| 0.0|      893|Portugal|\n",
      "|  5|  8|  6|  mar|sun|89.3| 51.3|11.4| 99| 1.8| 0.0| 0.0|      307|Portugal|\n",
      "|  6|  8|  6|  aug|sun|92.3| 85.3|22.2| 29| 5.4| 0.0| 0.0|      320|Portugal|\n",
      "|  7|  8|  6|  aug|mon|92.3| 88.9|24.1| 27| 3.1| 0.0| 0.0|     1000|Portugal|\n",
      "|  8|  8|  6|  aug|mon|91.5|145.4| 8.0| 86| 2.2| 0.0| 0.0|      809|Portugal|\n",
      "|  9|  8|  6|  sep|tue|91.0|129.5|13.1| 63| 5.4| 0.0| 0.0|      917|Portugal|\n",
      "| 10|  7|  5|  sep|sat|92.5| 88.0|22.8| 40| 4.0| 0.0| 0.0|       74|Portugal|\n",
      "| 11|  7|  5|  sep|sat|92.5| 88.0|17.8| 51| 7.2| 0.0| 0.0|      276|Portugal|\n",
      "| 12|  7|  5|  sep|sat|92.8| 73.2|19.3| 38| 4.0| 0.0| 0.0|      285|Portugal|\n",
      "| 13|  6|  5|  aug|fri|63.5| 70.8|17.0| 72| 6.7| 0.0| 0.0|      678|Portugal|\n",
      "| 14|  6|  5|  sep|mon|90.9|126.5|21.3| 42| 2.2| 0.0| 0.0|      772|Portugal|\n",
      "| 15|  6|  5|  sep|wed|92.9|133.3|26.4| 21| 4.5| 0.0| 0.0|      619|Portugal|\n",
      "| 16|  6|  5|  sep|fri|93.3|141.2|22.9| 44| 5.4| 0.0| 0.0|      220|Portugal|\n",
      "| 17|  5|  5|  mar|sat|91.7| 35.8|15.1| 27| 5.4| 0.0| 0.0|      895|Portugal|\n",
      "| 18|  8|  5|  oct|mon|84.9| 32.8|16.7| 47| 4.9| 0.0| 0.0|      935|Portugal|\n",
      "| 19|  6|  4|  mar|wed|89.2| 27.9|15.9| 35| 4.0| 0.0| 0.0|      173|Portugal|\n",
      "| 20|  6|  4|  apr|sat|86.3| 27.4| 9.3| 44| 4.5| 0.0| 0.0|      969|Portugal|\n",
      "+---+---+---+-----+---+----+-----+----+---+----+----+----+---------+--------+\n",
      "only showing top 20 rows\n",
      "\n"
     ]
    }
   ],
   "source": [
    "# create sparkSession\n",
    "spark = SparkSession.builder.appName(\"csv_example\").getOrCreate()\n",
    "\n",
    "# read CSV document\n",
    "df1 = spark.read.csv('weather.csv', header=True, inferSchema=True)\n",
    "df2 = spark.read.csv('fires.csv', header=True, inferSchema=True)\n",
    "\n",
    "# print DataFrame\n",
    "print(\"Weather DataFrame:\")\n",
    "df1.show()\n",
    "\n",
    "print(\"Fires DataFrame:\")\n",
    "df2.show()"
   ]
  },
  {
   "cell_type": "markdown",
   "id": "4588127c",
   "metadata": {},
   "source": [
    "Find missing data,count missing rows by country and identify rows containing at least one missing value"
   ]
  },
  {
   "cell_type": "code",
   "execution_count": 12,
   "id": "2d3f038d",
   "metadata": {},
   "outputs": [
    {
     "name": "stdout",
     "output_type": "stream",
     "text": [
      "+---+---+---+---+---+-------+\n",
      "|num|  X|  Y| DC|ISI|country|\n",
      "+---+---+---+---+---+-------+\n",
      "|  0|  0|  0|  0|  0|      0|\n",
      "+---+---+---+---+---+-------+\n",
      "\n",
      "+---+---+---+-----+---+----+---+----+---+----+----+----+---------+-------+\n",
      "|num|  X|  Y|month|day|FFMC|DMC|temp| RH|wind|rain|area|passenger|country|\n",
      "+---+---+---+-----+---+----+---+----+---+----+----+----+---------+-------+\n",
      "|  0|  0|  0|    0|  0| 369|369|   0|  0|   0|   0|   0|        0|      0|\n",
      "+---+---+---+-----+---+----+---+----+---+----+----+----+---------+-------+\n",
      "\n",
      "Shape df1: (886, 6)\n",
      "Shape df2: (886, 14)\n",
      "df1 dtype: [('num', 'int'), ('X', 'int'), ('Y', 'int'), ('DC', 'double'), ('ISI', 'double'), ('country', 'string')]\n",
      "df2 dtype: [('num', 'int'), ('X', 'int'), ('Y', 'int'), ('month', 'string'), ('day', 'string'), ('FFMC', 'double'), ('DMC', 'double'), ('temp', 'double'), ('RH', 'int'), ('wind', 'double'), ('rain', 'double'), ('area', 'double'), ('passenger', 'int'), ('country', 'string')]\n",
      "df3 dtype: [('X', 'int'), ('Y', 'int'), ('num', 'int'), ('country', 'string'), ('DC', 'double'), ('ISI', 'double'), ('month', 'string'), ('day', 'string'), ('FFMC', 'double'), ('DMC', 'double'), ('temp', 'double'), ('RH', 'int'), ('wind', 'double'), ('rain', 'double'), ('area', 'double'), ('passenger', 'int')]\n"
     ]
    },
    {
     "name": "stderr",
     "output_type": "stream",
     "text": [
      "                                                                                \r"
     ]
    },
    {
     "name": "stdout",
     "output_type": "stream",
     "text": [
      "+-------+-------------+\n",
      "|country|missing_ratio|\n",
      "+-------+-------------+\n",
      "| Brazil|          1.0|\n",
      "+-------+-------------+\n",
      "\n"
     ]
    }
   ],
   "source": [
    "# check missing value\n",
    "df1.select([(col(c).isNull().cast(\"int\")).alias(c) for c in df1.columns]).agg(*[ _sum(c).alias(c) for c in df1.columns ]).show()\n",
    "df2.select([(col(c).isNull().cast(\"int\")).alias(c) for c in df2.columns]).agg(*[ _sum(c).alias(c) for c in df2.columns ]).show()\n",
    "\n",
    "# print the shape of DataFrame\n",
    "print(\"Shape df1: ({}, {})\".format(df1.count(), len(df1.columns)))\n",
    "print(\"Shape df2: ({}, {})\".format(df2.count(), len(df2.columns)))\n",
    "\n",
    "# print the datatype of DataFrame\n",
    "print(\"df1 dtype:\", df1.dtypes)\n",
    "print(\"df2 dtype:\", df2.dtypes)\n",
    "\n",
    "# integret DataFrame 1 and DataFrame 2\n",
    "df3 = df1.join(df2, on=['X', 'Y', 'num', 'country'], how='outer')\n",
    "\n",
    "# print datatype of integreted DataFrame(df3)\n",
    "print(\"df3 dtype:\", df3.dtypes)\n",
    "\n",
    "# 计算每个国家的总行数\n",
    "total_rows_per_country = df3.groupBy(\"country\").agg(count(\"*\").alias(\"total_count\"))\n",
    "\n",
    "# 计算每个国家含有缺失值的行数（检查所有列）\n",
    "condition = reduce(lambda x, y: x | y, [col(c).isNull() for c in df3.columns])\n",
    "missing_rows_per_country = df3.filter(condition).groupBy(\"country\").agg(count(\"*\").alias(\"missing_count\"))\n",
    "\n",
    "# 计算缺失数据的比例\n",
    "missing_ratio_per_country = missing_rows_per_country.join(\n",
    "    total_rows_per_country,\n",
    "    on=\"country\",\n",
    "    how=\"inner\"\n",
    ").withColumn(\n",
    "    \"missing_ratio\",\n",
    "    col(\"missing_count\") / col(\"total_count\")\n",
    ").select(\n",
    "    \"country\",\n",
    "    \"missing_ratio\"\n",
    ").orderBy(col(\"missing_ratio\").desc())\n",
    "\n",
    "# 显示结果\n",
    "missing_ratio_per_country.show()"
   ]
  },
  {
   "cell_type": "markdown",
   "id": "ddb1b6d0",
   "metadata": {},
   "source": [
    "Visualise the rate of missing data"
   ]
  },
  {
   "cell_type": "code",
   "execution_count": null,
   "id": "a72f278d",
   "metadata": {},
   "outputs": [],
   "source": []
  }
 ],
 "metadata": {
  "kernelspec": {
   "display_name": "Python 3 (ipykernel)",
   "language": "python",
   "name": "python3"
  },
  "language_info": {
   "codemirror_mode": {
    "name": "ipython",
    "version": 3
   },
   "file_extension": ".py",
   "mimetype": "text/x-python",
   "name": "python",
   "nbconvert_exporter": "python",
   "pygments_lexer": "ipython3",
   "version": "3.10.4"
  }
 },
 "nbformat": 4,
 "nbformat_minor": 5
}
