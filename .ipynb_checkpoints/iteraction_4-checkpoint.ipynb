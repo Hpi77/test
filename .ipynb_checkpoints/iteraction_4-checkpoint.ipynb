{
 "cells": [
  {
   "cell_type": "markdown",
   "id": "38499f17",
   "metadata": {},
   "source": [
    "DU"
   ]
  },
  {
   "cell_type": "markdown",
   "id": "29b4f0e8",
   "metadata": {},
   "source": [
    "2.1 Collect initial data"
   ]
  },
  {
   "cell_type": "markdown",
   "id": "2744643b",
   "metadata": {},
   "source": [
    "import spark package for data mining and read dataset"
   ]
  },
  {
   "cell_type": "code",
   "execution_count": 2,
   "id": "26a8c5bb",
   "metadata": {},
   "outputs": [
    {
     "name": "stderr",
     "output_type": "stream",
     "text": [
      "WARNING: An illegal reflective access operation has occurred\n",
      "WARNING: Illegal reflective access by org.apache.spark.unsafe.Platform (file:/home/ubuntu/spark-3.2.1-bin-hadoop2.7/jars/spark-unsafe_2.12-3.2.1.jar) to constructor java.nio.DirectByteBuffer(long,int)\n",
      "WARNING: Please consider reporting this to the maintainers of org.apache.spark.unsafe.Platform\n",
      "WARNING: Use --illegal-access=warn to enable warnings of further illegal reflective access operations\n",
      "WARNING: All illegal access operations will be denied in a future release\n",
      "Using Spark's default log4j profile: org/apache/spark/log4j-defaults.properties\n",
      "Setting default log level to \"WARN\".\n",
      "To adjust logging level use sc.setLogLevel(newLevel). For SparkR, use setLogLevel(newLevel).\n",
      "24/05/23 18:51:40 WARN NativeCodeLoader: Unable to load native-hadoop library for your platform... using builtin-java classes where applicable\n",
      "                                                                                \r"
     ]
    }
   ],
   "source": [
    "# Must be included at the beginning of each new notebook. Remember to change the app name.\n",
    "import findspark\n",
    "findspark.init('/home/ubuntu/spark-3.2.1-bin-hadoop2.7')\n",
    "import pyspark\n",
    "\n",
    "from pyspark.sql import SparkSession\n",
    "from pyspark.sql.functions import when, col, trim, lower, split, count, avg, format_number,isnan,sum as _sum\n",
    "from functools import reduce\n",
    "from pyspark.sql.types import (StructField, StringType, IntegerType, StructType, FloatType, DoubleType)\n",
    "from pyspark.ml.feature import StringIndexer, OneHotEncoder, PCA, MinMaxScaler, StandardScaler\n",
    "from pyspark.ml import Pipeline\n",
    "from pyspark.ml.regression import LinearRegression, DecisionTreeRegressor, RandomForestRegressor\n",
    "from pyspark.ml.evaluation import RegressionEvaluator\n",
    "from pyspark.ml.tuning import CrossValidator, ParamGridBuilder\n",
    "\n",
    "spark = SparkSession.builder \\\n",
    "    .appName('iteraction_4')\\\n",
    "    .config(\"spark.executor.heartbeatInterval\", \"120s\") \\\n",
    "    .config(\"spark.network.timeout\", \"300s\") \\\n",
    "    .getOrCreate()\n",
    "\n",
    "# read CSV document\n",
    "df1 = spark.read.csv('weather.csv', header=True, inferSchema=True)\n",
    "df2 = spark.read.csv('fires.csv', header=True, inferSchema=True)"
   ]
  },
  {
   "cell_type": "markdown",
   "id": "d8173713",
   "metadata": {},
   "source": [
    "2.2 Explore the data"
   ]
  },
  {
   "cell_type": "code",
   "execution_count": 3,
   "id": "b6cf5630",
   "metadata": {},
   "outputs": [
    {
     "name": "stdout",
     "output_type": "stream",
     "text": [
      "Weather DataFrame:\n"
     ]
    },
    {
     "name": "stderr",
     "output_type": "stream",
     "text": [
      "                                                                                \r"
     ]
    },
    {
     "name": "stdout",
     "output_type": "stream",
     "text": [
      "+---+---+---+-----+----+--------+\n",
      "|num|  X|  Y|   DC| ISI| country|\n",
      "+---+---+---+-----+----+--------+\n",
      "|  1|  7|  5| 94.3| 5.1|Portugal|\n",
      "|  2|  7|  4|669.1| 6.7|Portugal|\n",
      "|  3|  7|  4|686.9| 6.7|Portugal|\n",
      "|  4|  8|  6| 77.5| 9.0|Portugal|\n",
      "|  5|  8|  6|102.2| 9.6|Portugal|\n",
      "|  6|  8|  6|488.0|14.7|Portugal|\n",
      "|  7|  8|  6|495.6| 8.5|Portugal|\n",
      "|  8|  8|  6|608.2|10.7|Portugal|\n",
      "|  9|  8|  6|692.6| 7.0|Portugal|\n",
      "| 10|  7|  5|698.6| 7.1|Portugal|\n",
      "| 11|  7|  5|698.6| 7.1|Portugal|\n",
      "| 12|  7|  5|713.0|22.6|Portugal|\n",
      "| 13|  6|  5|665.3| 0.8|Portugal|\n",
      "| 14|  6|  5|686.5| 7.0|Portugal|\n",
      "| 15|  6|  5|699.6| 9.2|Portugal|\n",
      "| 16|  6|  5|713.9|13.9|Portugal|\n",
      "| 17|  5|  5| 80.8| 7.8|Portugal|\n",
      "| 18|  8|  5|664.2| 3.0|Portugal|\n",
      "| 19|  6|  4| 70.8| 6.3|Portugal|\n",
      "| 20|  6|  4| 97.1| 5.1|Portugal|\n",
      "+---+---+---+-----+----+--------+\n",
      "only showing top 20 rows\n",
      "\n",
      "root\n",
      " |-- num: integer (nullable = true)\n",
      " |-- X: integer (nullable = true)\n",
      " |-- Y: integer (nullable = true)\n",
      " |-- DC: double (nullable = true)\n",
      " |-- ISI: double (nullable = true)\n",
      " |-- country: string (nullable = true)\n",
      "\n"
     ]
    },
    {
     "name": "stderr",
     "output_type": "stream",
     "text": [
      "                                                                                \r"
     ]
    },
    {
     "name": "stdout",
     "output_type": "stream",
     "text": [
      "Shape df1: (886, 6)\n",
      "df1 dtype: [('num', 'int'), ('X', 'int'), ('Y', 'int'), ('DC', 'double'), ('ISI', 'double'), ('country', 'string')]\n",
      "Fires DataFrame:\n"
     ]
    },
    {
     "name": "stderr",
     "output_type": "stream",
     "text": [
      "                                                                                \r"
     ]
    },
    {
     "name": "stdout",
     "output_type": "stream",
     "text": [
      "+---+---+---+-----+---+----+-----+----+---+----+----+----+---------+--------+\n",
      "|num|  X|  Y|month|day|FFMC|  DMC|temp| RH|wind|rain|area|passenger| country|\n",
      "+---+---+---+-----+---+----+-----+----+---+----+----+----+---------+--------+\n",
      "|  1|  7|  5|  mar|fri|86.2| 26.2| 8.2| 51| 6.7| 0.0| 0.0|      898|Portugal|\n",
      "|  2|  7|  4|  oct|tue|90.6| 35.4|18.0| 33| 0.9| 0.0| 0.0|       71|Portugal|\n",
      "|  3|  7|  4|  oct|sat|90.6| 43.7|14.6| 33| 1.3| 0.0| 0.0|      900|Portugal|\n",
      "|  4|  8|  6|  mar|fri|91.7| 33.3| 8.3| 97| 4.0| 0.2| 0.0|      893|Portugal|\n",
      "|  5|  8|  6|  mar|sun|89.3| 51.3|11.4| 99| 1.8| 0.0| 0.0|      307|Portugal|\n",
      "|  6|  8|  6|  aug|sun|92.3| 85.3|22.2| 29| 5.4| 0.0| 0.0|      320|Portugal|\n",
      "|  7|  8|  6|  aug|mon|92.3| 88.9|24.1| 27| 3.1| 0.0| 0.0|     1000|Portugal|\n",
      "|  8|  8|  6|  aug|mon|91.5|145.4| 8.0| 86| 2.2| 0.0| 0.0|      809|Portugal|\n",
      "|  9|  8|  6|  sep|tue|91.0|129.5|13.1| 63| 5.4| 0.0| 0.0|      917|Portugal|\n",
      "| 10|  7|  5|  sep|sat|92.5| 88.0|22.8| 40| 4.0| 0.0| 0.0|       74|Portugal|\n",
      "| 11|  7|  5|  sep|sat|92.5| 88.0|17.8| 51| 7.2| 0.0| 0.0|      276|Portugal|\n",
      "| 12|  7|  5|  sep|sat|92.8| 73.2|19.3| 38| 4.0| 0.0| 0.0|      285|Portugal|\n",
      "| 13|  6|  5|  aug|fri|63.5| 70.8|17.0| 72| 6.7| 0.0| 0.0|      678|Portugal|\n",
      "| 14|  6|  5|  sep|mon|90.9|126.5|21.3| 42| 2.2| 0.0| 0.0|      772|Portugal|\n",
      "| 15|  6|  5|  sep|wed|92.9|133.3|26.4| 21| 4.5| 0.0| 0.0|      619|Portugal|\n",
      "| 16|  6|  5|  sep|fri|93.3|141.2|22.9| 44| 5.4| 0.0| 0.0|      220|Portugal|\n",
      "| 17|  5|  5|  mar|sat|91.7| 35.8|15.1| 27| 5.4| 0.0| 0.0|      895|Portugal|\n",
      "| 18|  8|  5|  oct|mon|84.9| 32.8|16.7| 47| 4.9| 0.0| 0.0|      935|Portugal|\n",
      "| 19|  6|  4|  mar|wed|89.2| 27.9|15.9| 35| 4.0| 0.0| 0.0|      173|Portugal|\n",
      "| 20|  6|  4|  apr|sat|86.3| 27.4| 9.3| 44| 4.5| 0.0| 0.0|      969|Portugal|\n",
      "+---+---+---+-----+---+----+-----+----+---+----+----+----+---------+--------+\n",
      "only showing top 20 rows\n",
      "\n",
      "root\n",
      " |-- num: integer (nullable = true)\n",
      " |-- X: integer (nullable = true)\n",
      " |-- Y: integer (nullable = true)\n",
      " |-- month: string (nullable = true)\n",
      " |-- day: string (nullable = true)\n",
      " |-- FFMC: double (nullable = true)\n",
      " |-- DMC: double (nullable = true)\n",
      " |-- temp: double (nullable = true)\n",
      " |-- RH: integer (nullable = true)\n",
      " |-- wind: double (nullable = true)\n",
      " |-- rain: double (nullable = true)\n",
      " |-- area: double (nullable = true)\n",
      " |-- passenger: integer (nullable = true)\n",
      " |-- country: string (nullable = true)\n",
      "\n"
     ]
    },
    {
     "name": "stderr",
     "output_type": "stream",
     "text": [
      "\r",
      "[Stage 9:>                                                          (0 + 1) / 1]\r"
     ]
    },
    {
     "name": "stdout",
     "output_type": "stream",
     "text": [
      "Shape df2: (886, 14)\n",
      "df2 dtype: [('num', 'int'), ('X', 'int'), ('Y', 'int'), ('month', 'string'), ('day', 'string'), ('FFMC', 'double'), ('DMC', 'double'), ('temp', 'double'), ('RH', 'int'), ('wind', 'double'), ('rain', 'double'), ('area', 'double'), ('passenger', 'int'), ('country', 'string')]\n"
     ]
    },
    {
     "name": "stderr",
     "output_type": "stream",
     "text": [
      "\r",
      "[Stage 11:>                                                         (0 + 1) / 1]\r",
      "\r",
      "                                                                                \r"
     ]
    }
   ],
   "source": [
    "# print DataFrame\n",
    "print(\"Weather DataFrame:\")\n",
    "df1.show()\n",
    "df1.printSchema()\n",
    "# print the shape of DataFrame\n",
    "print(\"Shape df1: ({}, {})\".format(df1.count(), len(df1.columns)))\n",
    "# print the datatype of DataFrame\n",
    "print(\"df1 dtype:\", df1.dtypes)\n",
    "\n",
    "print(\"Fires DataFrame:\")\n",
    "df2.show()\n",
    "df2.printSchema()\n",
    "print(\"Shape df2: ({}, {})\".format(df2.count(), len(df2.columns)))\n",
    "print(\"df2 dtype:\", df2.dtypes)\n"
   ]
  },
  {
   "cell_type": "markdown",
   "id": "b1440bc6",
   "metadata": {},
   "source": [
    "2.3 Explore the data"
   ]
  },
  {
   "cell_type": "markdown",
   "id": "4588127c",
   "metadata": {},
   "source": [
    "Find missing data,count missing rows by country and identify rows containing at least one missing value"
   ]
  },
  {
   "cell_type": "code",
   "execution_count": 4,
   "id": "2d3f038d",
   "metadata": {},
   "outputs": [
    {
     "name": "stderr",
     "output_type": "stream",
     "text": [
      "                                                                                \r"
     ]
    },
    {
     "name": "stdout",
     "output_type": "stream",
     "text": [
      "+---+---+---+---+---+-------+\n",
      "|num|  X|  Y| DC|ISI|country|\n",
      "+---+---+---+---+---+-------+\n",
      "|  0|  0|  0|  0|  0|      0|\n",
      "+---+---+---+---+---+-------+\n",
      "\n"
     ]
    },
    {
     "name": "stderr",
     "output_type": "stream",
     "text": [
      "                                                                                \r"
     ]
    },
    {
     "name": "stdout",
     "output_type": "stream",
     "text": [
      "+---+---+---+-----+---+----+---+----+---+----+----+----+---------+-------+\n",
      "|num|  X|  Y|month|day|FFMC|DMC|temp| RH|wind|rain|area|passenger|country|\n",
      "+---+---+---+-----+---+----+---+----+---+----+----+----+---------+-------+\n",
      "|  0|  0|  0|    0|  0| 369|369|   0|  0|   0|   0|   0|        0|      0|\n",
      "+---+---+---+-----+---+----+---+----+---+----+----+----+---------+-------+\n",
      "\n",
      "df3 dtype: [('X', 'int'), ('Y', 'int'), ('num', 'int'), ('country', 'string'), ('DC', 'double'), ('ISI', 'double'), ('month', 'string'), ('day', 'string'), ('FFMC', 'double'), ('DMC', 'double'), ('temp', 'double'), ('RH', 'int'), ('wind', 'double'), ('rain', 'double'), ('area', 'double'), ('passenger', 'int')]\n"
     ]
    },
    {
     "name": "stderr",
     "output_type": "stream",
     "text": [
      "                                                                                \r"
     ]
    },
    {
     "name": "stdout",
     "output_type": "stream",
     "text": [
      "+-------+-------------+\n",
      "|country|missing_ratio|\n",
      "+-------+-------------+\n",
      "| Brazil|          1.0|\n",
      "+-------+-------------+\n",
      "\n"
     ]
    }
   ],
   "source": [
    "# check missing value\n",
    "df1.select([(col(c).isNull().cast(\"int\")).alias(c) for c in df1.columns]).agg(*[ _sum(c).alias(c) for c in df1.columns ]).show()\n",
    "df2.select([(col(c).isNull().cast(\"int\")).alias(c) for c in df2.columns]).agg(*[ _sum(c).alias(c) for c in df2.columns ]).show()\n",
    "\n",
    "# integret DataFrame 1 and DataFrame 2\n",
    "df3 = df1.join(df2, on=['X', 'Y', 'num', 'country'], how='outer')\n",
    "\n",
    "# print datatype of integreted DataFrame(df3)\n",
    "print(\"df3 dtype:\", df3.dtypes)\n",
    "\n",
    "# count the final rows per country\n",
    "total_rows_per_country = df3.groupBy(\"country\").agg(count(\"*\").alias(\"total_count\"))\n",
    "condition = reduce(lambda x, y: x | y, [col(c).isNull() for c in df3.columns])\n",
    "missing_rows_per_country = df3.filter(condition).groupBy(\"country\").agg(count(\"*\").alias(\"missing_count\"))\n",
    "\n",
    "# count missing rate\n",
    "missing_ratio_per_country = missing_rows_per_country.join(\n",
    "    total_rows_per_country,\n",
    "    on=\"country\",\n",
    "    how=\"inner\"\n",
    ").withColumn(\n",
    "    \"missing_ratio\",\n",
    "    col(\"missing_count\") / col(\"total_count\")\n",
    ").select(\n",
    "    \"country\",\n",
    "    \"missing_ratio\"\n",
    ").orderBy(col(\"missing_ratio\").desc())\n",
    "\n",
    "# show result\n",
    "missing_ratio_per_country.show()"
   ]
  },
  {
   "cell_type": "markdown",
   "id": "ce8da6ab",
   "metadata": {},
   "source": [
    "2.4 Verify the data quality"
   ]
  },
  {
   "cell_type": "markdown",
   "id": "ddb1b6d0",
   "metadata": {},
   "source": [
    "Visualise the rate of missing data"
   ]
  },
  {
   "cell_type": "code",
   "execution_count": 5,
   "id": "85b716d1",
   "metadata": {
    "scrolled": true
   },
   "outputs": [
    {
     "name": "stderr",
     "output_type": "stream",
     "text": [
      "                                                                                \r"
     ]
    },
    {
     "name": "stdout",
     "output_type": "stream",
     "text": [
      "+---+---+---+--------+-----+----+-----+---+----+-----+----+---+----+----+------+---------+\n",
      "|  X|  Y|num| country|   DC| ISI|month|day|FFMC|  DMC|temp| RH|wind|rain|  area|passenger|\n",
      "+---+---+---+--------+-----+----+-----+---+----+-----+----+---+----+----+------+---------+\n",
      "|  1|  2| 79|Portugal|529.8|12.5|    8|  5|90.1|108.0|14.7| 66| 2.7| 0.0|   0.0|      752|\n",
      "|  1|  2| 80|Portugal|561.6| 7.0|    8|  2|91.0|121.2|21.6| 19| 6.7| 0.0|   0.0|      464|\n",
      "|  1|  2| 81|Portugal|601.4|10.6|    8|  7|91.4|142.4|19.5| 39| 6.3| 0.0|   0.0|      446|\n",
      "|  1|  2| 82|Portugal|631.2| 6.3|    8|  7|90.2| 99.6|17.9| 44| 2.2| 0.0|   0.0|      594|\n",
      "|  1|  2| 83|Portugal|647.1|17.0|    8|  2|94.8|108.3|18.6| 51| 4.5| 0.0|   0.0|      489|\n",
      "|  1|  2| 84|Portugal|654.1| 9.6|    8|  3|92.1|111.2|16.6| 47| 0.9| 0.0|   0.0|      614|\n",
      "|  1|  2| 85|Portugal|661.3| 6.3|    8|  4|91.7|114.3|20.2| 45| 3.6| 0.0|   0.0|      867|\n",
      "|  1|  2| 86|Portugal|706.4| 9.2|    9|  4|92.9|137.0|21.5| 15| 0.9| 0.0|   0.0|      815|\n",
      "|  1|  2| 87|Portugal|706.4| 9.2|    9|  4|92.9|137.0|25.4| 27| 2.2| 0.0|   0.0|      390|\n",
      "|  1|  2| 88|Portugal|706.4| 9.2|    9|  4|92.9|137.0|22.4| 34| 2.2| 0.0|   0.0|      190|\n",
      "|  1|  2| 89|Portugal|728.6| 8.1|    9|  7|93.5|149.3|25.3| 36| 3.6| 0.0|   0.0|      958|\n",
      "|  1|  2|142|Portugal|513.3|13.2|    8|  3|95.5| 99.9|23.3| 31| 4.5| 0.0|  0.55|      228|\n",
      "|  1|  2|144|Portugal|296.3| 8.7|    7|  6|90.0| 51.3|16.6| 53| 5.4| 0.0|  0.71|      933|\n",
      "|  1|  2|238|Portugal|692.6| 7.0|    9|  2|91.0|129.5|18.8| 40| 2.2| 0.0|212.88|      478|\n",
      "|  1|  2|399|Portugal|715.1| 8.4|    8|  6|93.7|231.1|25.9| 32| 3.1| 0.0|   0.0|      529|\n",
      "|  1|  2|444|Portugal|368.3|16.8|    7|  5|90.7| 80.9|14.8| 78| 8.0| 0.0|   0.0|      426|\n",
      "|  1|  2|506|Portugal|744.4|10.1|    8|  4|91.0|163.2|26.7| 35| 1.8| 0.0|   5.8|      322|\n",
      "|  1|  2|507|Portugal|752.6| 7.1|    8|  5|91.0|166.9|18.5| 73| 8.5| 0.0|   0.0|       88|\n",
      "|  1|  2|509|Portugal|752.6| 7.1|    8|  5|91.0|166.9|25.9| 41| 3.6| 0.0|   0.0|      439|\n",
      "|  1|  2|550|       2|613.0| 7.6|    9|  2|null| null|18.2| 42| 0.9| 0.0|  2.29|      384|\n",
      "+---+---+---+--------+-----+----+-----+---+----+-----+----+---+----+----+------+---------+\n",
      "only showing top 20 rows\n",
      "\n",
      "Statistical Description:\n"
     ]
    },
    {
     "name": "stderr",
     "output_type": "stream",
     "text": [
      "                                                                                \r"
     ]
    },
    {
     "name": "stdout",
     "output_type": "stream",
     "text": [
      "+-------+------------------+------------------+------------------+--------+------------------+------------------+-----------------+------------------+-----------------+-----------------+------------------+-----------------+------------------+--------------------+------------------+------------------+\n",
      "|summary|                 X|                 Y|               num| country|                DC|               ISI|            month|               day|             FFMC|              DMC|              temp|               RH|              wind|                rain|              area|         passenger|\n",
      "+-------+------------------+------------------+------------------+--------+------------------+------------------+-----------------+------------------+-----------------+-----------------+------------------+-----------------+------------------+--------------------+------------------+------------------+\n",
      "|  count|               886|               886|               886|     886|               886|               886|              886|               886|              517|              517|               886|              886|               886|                 886|               886|               886|\n",
      "|   mean| 4.609480812641084|4.1715575620767495|             443.5|     2.0| 528.3251693002242|  9.46027088036117|7.323927765237021|4.1139954853273135|90.64468085106368| 110.872340425532|18.824830699774274|44.50564334085779|  4.00440180586907|0.013995485327313768|14.364322799097062| 520.9909706546275|\n",
      "| stddev|2.2850237945017855|1.3242301891506643|255.91046611396465|     0.0|259.03972094411967|4.9454974711625725| 2.45226350677097|  2.00380611170665| 5.52011084885127|64.04648224925424| 5.764672630451517|16.39007112228481|1.8261851914917768| 0.22874369734626548|  67.9051642074302|269.76233508869086|\n",
      "|    min|                 1|                 2|                 1|       2|               7.9|               0.0|                1|                 1|             18.7|              1.1|               2.2|               15|               0.4|                 0.0|               0.0|                50|\n",
      "|    max|                 9|                 9|               886|Portugal|             860.6|              56.1|                9|                 7|             96.2|            291.3|              33.3|              100|               9.4|                 6.4|           1090.84|              1000|\n",
      "+-------+------------------+------------------+------------------+--------+------------------+------------------+-----------------+------------------+-----------------+-----------------+------------------+-----------------+------------------+--------------------+------------------+------------------+\n",
      "\n",
      "Shape: (886, 16)\n",
      "+---+---+---+-------+---+---+-----+---+----+---+----+---+----+----+----+---------+\n",
      "|  X|  Y|num|country| DC|ISI|month|day|FFMC|DMC|temp| RH|wind|rain|area|passenger|\n",
      "+---+---+---+-------+---+---+-----+---+----+---+----+---+----+----+----+---------+\n",
      "|  0|  0|  0|      0|  0|  0|    0|  0| 369|369|   0|  0|   0|   0|   0|        0|\n",
      "+---+---+---+-------+---+---+-----+---+----+---+----+---+----+----+----+---------+\n",
      "\n",
      "Data Types: [('X', 'int'), ('Y', 'int'), ('num', 'int'), ('country', 'string'), ('DC', 'double'), ('ISI', 'double'), ('month', 'string'), ('day', 'string'), ('FFMC', 'double'), ('DMC', 'double'), ('temp', 'double'), ('RH', 'int'), ('wind', 'double'), ('rain', 'double'), ('area', 'double'), ('passenger', 'int')]\n"
     ]
    },
    {
     "ename": "NameError",
     "evalue": "name 'VectorAssembler' is not defined",
     "output_type": "error",
     "traceback": [
      "\u001b[0;31m---------------------------------------------------------------------------\u001b[0m",
      "\u001b[0;31mNameError\u001b[0m                                 Traceback (most recent call last)",
      "Input \u001b[0;32mIn [5]\u001b[0m, in \u001b[0;36m<cell line: 47>\u001b[0;34m()\u001b[0m\n\u001b[1;32m     45\u001b[0m \u001b[38;5;66;03m# 计算相关矩阵\u001b[39;00m\n\u001b[1;32m     46\u001b[0m vector_col \u001b[38;5;241m=\u001b[39m \u001b[38;5;124m\"\u001b[39m\u001b[38;5;124mcorr_features\u001b[39m\u001b[38;5;124m\"\u001b[39m\n\u001b[0;32m---> 47\u001b[0m assembler \u001b[38;5;241m=\u001b[39m \u001b[43mVectorAssembler\u001b[49m(inputCols\u001b[38;5;241m=\u001b[39mdf4\u001b[38;5;241m.\u001b[39mcolumns, outputCol\u001b[38;5;241m=\u001b[39mvector_col)\n\u001b[1;32m     48\u001b[0m df_vector \u001b[38;5;241m=\u001b[39m assembler\u001b[38;5;241m.\u001b[39mtransform(df4)\u001b[38;5;241m.\u001b[39mselect(vector_col)\n\u001b[1;32m     49\u001b[0m matrix \u001b[38;5;241m=\u001b[39m Correlation\u001b[38;5;241m.\u001b[39mcorr(df_vector, vector_col)\u001b[38;5;241m.\u001b[39mcollect()[\u001b[38;5;241m0\u001b[39m][\u001b[38;5;241m0\u001b[39m]\n",
      "\u001b[0;31mNameError\u001b[0m: name 'VectorAssembler' is not defined"
     ]
    }
   ],
   "source": [
    "# clean the data, and format the values of\"month\" and \"day\"\n",
    "df3 = df3.withColumn(\"month\", \n",
    "    when(col(\"month\") == 'jan', 1).when(col(\"month\") == 'feb', 2).when(col(\"month\") == 'mar', 3)\n",
    "    .when(col(\"month\") == 'apr', 4).when(col(\"month\") == 'may', 5).when(col(\"month\") == 'jun', 6)\n",
    "    .when(col(\"month\") == 'jul', 7).when(col(\"month\") == 'aug', 8).when(col(\"month\") == 'sep', 9)\n",
    "    .when(col(\"month\") == 'oct', 10).when(col(\"month\") == 'nov', 11).when(col(\"month\") == 'dec', 12)\n",
    "    .otherwise(col(\"month\"))\n",
    ")\n",
    "\n",
    "df3 = df3.withColumn(\"day\", \n",
    "    when(col(\"day\") == 'mon', 1).when(col(\"day\") == 'tue', 2).when(col(\"day\") == 'wed', 3)\n",
    "    .when(col(\"day\") == 'thu', 4).when(col(\"day\") == 'fri', 5).when(col(\"day\") == 'sat', 6)\n",
    "    .when(col(\"day\") == 'sun', 7).otherwise(col(\"day\"))\n",
    ")\n",
    "df3 = df3.withColumn(\"country\", \n",
    "    when(col(\"country\") == 'Portgual', 1).when(col(\"country\") == 'Brazil', 2).otherwise(col(\"country\"))\n",
    ")\n",
    "\n",
    "# 计算每个月的记录数\n",
    "monthly_counts = df3.groupBy(\"month\").agg(count(\"area\").alias(\"area\"))\n",
    "\n",
    "# use median values fill the missing values\n",
    "numeric_columns = [field.name for field in df3.schema.fields if isinstance(field.dataType, (DoubleType, IntegerType, FloatType))]\n",
    "median_values = df3.approxQuantile(numeric_columns, [0.5], 0.25)\n",
    "median_dict = {col: median_values[i] for i, col in enumerate(numeric_columns)}\n",
    "\n",
    "median_dict = {col: median_values[0][i] for i, col in enumerate(numeric_columns) if i < len(median_values[0])}\n",
    "\n",
    "df4 = df3.fillna(median_dict)\n",
    "\n",
    "df4.show()\n",
    "print(\"Statistical Description:\")\n",
    "df4.describe().show()\n",
    "\n",
    "# get the shape of DataFrame的形状\n",
    "shape = (df4.count(), len(df4.columns))\n",
    "print(\"Shape:\", shape)\n",
    "\n",
    "# count the number of missing value\n",
    "df4.select([count(when(isnan(c) | col(c).isNull(), c)).alias(c) for c in df4.columns]).show()\n",
    "\n",
    "# 验证数据类型\n",
    "print(\"Data Types:\", df4.dtypes)\n",
    "\n",
    "# 计算相关矩阵\n",
    "vector_col = \"corr_features\"\n",
    "assembler = VectorAssembler(inputCols=df4.columns, outputCol=vector_col)\n",
    "df_vector = assembler.transform(df4).select(vector_col)\n",
    "matrix = Correlation.corr(df_vector, vector_col).collect()[0][0]\n",
    "corr_matrix = matrix.toArray()\n",
    "\n",
    "print(\"Correlation Matrix:\", corr_matrix)\n",
    "\n",
    "# 将相关矩阵转换为DataFrame并显示\n",
    "corr_df = spark.createDataFrame(\n",
    "    corr_matrix.tolist(),\n",
    "    df4.columns\n",
    ")\n",
    "\n",
    "corr_df.show()"
   ]
  },
  {
   "cell_type": "code",
   "execution_count": null,
   "id": "d353b2e0",
   "metadata": {},
   "outputs": [],
   "source": [
    "# 将结果转换为pandas DataFrame以进行可视化\n",
    "monthly_counts_pd = monthly_counts.toPandas()\n",
    "df3_pd = df3.toPandas()\n",
    "\n",
    "import matplotlib.pyplot as plt\n",
    "import seaborn as sns\n",
    "from pyspark.sql import SparkSession\n",
    "from pyspark.sql.functions import col, count, when\n",
    "from functools import reduce\n",
    "\n",
    "# 启用内联绘图模式\n",
    "%matplotlib inline\n",
    "\n",
    "# 设置绘图的默认参数\n",
    "plt.rcParams['figure.figsize'] = [8, 8]\n",
    "\n",
    "# Records\n",
    "plt.figure(figsize=(10, 6))\n",
    "plt.bar(monthly_counts_pd['month'], monthly_counts_pd['area'], color='skyblue')\n",
    "plt.xlabel('Month')\n",
    "plt.ylabel('Number of Records')\n",
    "plt.title('Relationship Between the Number of Area Records and Month')\n",
    "plt.show()\n",
    "\n",
    "# Relationship\n",
    "plt.figure(figsize=(10, 6))\n",
    "plt.bar(df3_pd['month'], df3_pd['area'])\n",
    "plt.xlabel('Month')\n",
    "plt.ylabel('Area')\n",
    "plt.title('Relationship between area and month')\n",
    "plt.show()\n",
    "\n",
    "# Distribution Plot\n",
    "sns.distplot(df3_pd['area'])\n",
    "plt.title('Distribution of Area')\n",
    "plt.show()\n"
   ]
  },
  {
   "cell_type": "code",
   "execution_count": null,
   "id": "40123d7e",
   "metadata": {},
   "outputs": [],
   "source": []
  }
 ],
 "metadata": {
  "celltoolbar": "Tags",
  "kernelspec": {
   "display_name": "Python 3 (ipykernel)",
   "language": "python",
   "name": "python3"
  },
  "language_info": {
   "codemirror_mode": {
    "name": "ipython",
    "version": 3
   },
   "file_extension": ".py",
   "mimetype": "text/x-python",
   "name": "python",
   "nbconvert_exporter": "python",
   "pygments_lexer": "ipython3",
   "version": "3.10.12"
  }
 },
 "nbformat": 4,
 "nbformat_minor": 5
}
