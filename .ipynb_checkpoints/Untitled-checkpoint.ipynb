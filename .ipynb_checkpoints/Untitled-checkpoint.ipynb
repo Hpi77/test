{
 "cells": [
  {
   "cell_type": "markdown",
   "id": "2744643b",
   "metadata": {},
   "source": [
    "import spark package for data mining"
   ]
  },
  {
   "cell_type": "code",
   "execution_count": 4,
   "id": "26a8c5bb",
   "metadata": {},
   "outputs": [],
   "source": [
    "from pyspark.sql import SparkSession\n",
    "from pyspark.sql.functions import when, col, trim, lower, split, count, avg, format_number,isnan,sum as _sum\n",
    "from pyspark.sql.types import (StructField, StringType, IntegerType, StructType, FloatType, DoubleType)\n",
    "from pyspark.ml.feature import StringIndexer, OneHotEncoder, PCA, MinMaxScaler, StandardScaler\n",
    "from pyspark.ml import Pipeline\n",
    "from pyspark.ml.regression import LinearRegression, DecisionTreeRegressor, RandomForestRegressor\n",
    "from pyspark.ml.evaluation import RegressionEvaluator\n",
    "from pyspark.ml.tuning import CrossValidator, ParamGridBuilder\n"
   ]
  },
  {
   "cell_type": "markdown",
   "id": "65179c26",
   "metadata": {},
   "source": [
    "read dataset"
   ]
  },
  {
   "cell_type": "code",
   "execution_count": 5,
   "id": "4f29efd2",
   "metadata": {},
   "outputs": [
    {
     "name": "stderr",
     "output_type": "stream",
     "text": [
      "WARNING: An illegal reflective access operation has occurred\n",
      "WARNING: Illegal reflective access by org.apache.spark.unsafe.Platform (file:/home/ubuntu/.local/lib/python3.10/site-packages/pyspark/jars/spark-unsafe_2.12-3.2.1.jar) to constructor java.nio.DirectByteBuffer(long,int)\n",
      "WARNING: Please consider reporting this to the maintainers of org.apache.spark.unsafe.Platform\n",
      "WARNING: Use --illegal-access=warn to enable warnings of further illegal reflective access operations\n",
      "WARNING: All illegal access operations will be denied in a future release\n",
      "Using Spark's default log4j profile: org/apache/spark/log4j-defaults.properties\n",
      "Setting default log level to \"WARN\".\n",
      "To adjust logging level use sc.setLogLevel(newLevel). For SparkR, use setLogLevel(newLevel).\n",
      "24/05/20 14:19:10 WARN NativeCodeLoader: Unable to load native-hadoop library for your platform... using builtin-java classes where applicable\n",
      "                                                                                \r"
     ]
    },
    {
     "name": "stdout",
     "output_type": "stream",
     "text": [
      "Weather DataFrame:\n",
      "+---+---+---+-----+----+--------+\n",
      "|num|  X|  Y|   DC| ISI| country|\n",
      "+---+---+---+-----+----+--------+\n",
      "|  1|  7|  5| 94.3| 5.1|Portugal|\n",
      "|  2|  7|  4|669.1| 6.7|Portugal|\n",
      "|  3|  7|  4|686.9| 6.7|Portugal|\n",
      "|  4|  8|  6| 77.5| 9.0|Portugal|\n",
      "|  5|  8|  6|102.2| 9.6|Portugal|\n",
      "|  6|  8|  6|488.0|14.7|Portugal|\n",
      "|  7|  8|  6|495.6| 8.5|Portugal|\n",
      "|  8|  8|  6|608.2|10.7|Portugal|\n",
      "|  9|  8|  6|692.6| 7.0|Portugal|\n",
      "| 10|  7|  5|698.6| 7.1|Portugal|\n",
      "| 11|  7|  5|698.6| 7.1|Portugal|\n",
      "| 12|  7|  5|713.0|22.6|Portugal|\n",
      "| 13|  6|  5|665.3| 0.8|Portugal|\n",
      "| 14|  6|  5|686.5| 7.0|Portugal|\n",
      "| 15|  6|  5|699.6| 9.2|Portugal|\n",
      "| 16|  6|  5|713.9|13.9|Portugal|\n",
      "| 17|  5|  5| 80.8| 7.8|Portugal|\n",
      "| 18|  8|  5|664.2| 3.0|Portugal|\n",
      "| 19|  6|  4| 70.8| 6.3|Portugal|\n",
      "| 20|  6|  4| 97.1| 5.1|Portugal|\n",
      "+---+---+---+-----+----+--------+\n",
      "only showing top 20 rows\n",
      "\n",
      "Fires DataFrame:\n",
      "+---+---+---+-----+---+----+-----+----+---+----+----+----+---------+--------+\n",
      "|num|  X|  Y|month|day|FFMC|  DMC|temp| RH|wind|rain|area|passenger| country|\n",
      "+---+---+---+-----+---+----+-----+----+---+----+----+----+---------+--------+\n",
      "|  1|  7|  5|  mar|fri|86.2| 26.2| 8.2| 51| 6.7| 0.0| 0.0|      898|Portugal|\n",
      "|  2|  7|  4|  oct|tue|90.6| 35.4|18.0| 33| 0.9| 0.0| 0.0|       71|Portugal|\n",
      "|  3|  7|  4|  oct|sat|90.6| 43.7|14.6| 33| 1.3| 0.0| 0.0|      900|Portugal|\n",
      "|  4|  8|  6|  mar|fri|91.7| 33.3| 8.3| 97| 4.0| 0.2| 0.0|      893|Portugal|\n",
      "|  5|  8|  6|  mar|sun|89.3| 51.3|11.4| 99| 1.8| 0.0| 0.0|      307|Portugal|\n",
      "|  6|  8|  6|  aug|sun|92.3| 85.3|22.2| 29| 5.4| 0.0| 0.0|      320|Portugal|\n",
      "|  7|  8|  6|  aug|mon|92.3| 88.9|24.1| 27| 3.1| 0.0| 0.0|     1000|Portugal|\n",
      "|  8|  8|  6|  aug|mon|91.5|145.4| 8.0| 86| 2.2| 0.0| 0.0|      809|Portugal|\n",
      "|  9|  8|  6|  sep|tue|91.0|129.5|13.1| 63| 5.4| 0.0| 0.0|      917|Portugal|\n",
      "| 10|  7|  5|  sep|sat|92.5| 88.0|22.8| 40| 4.0| 0.0| 0.0|       74|Portugal|\n",
      "| 11|  7|  5|  sep|sat|92.5| 88.0|17.8| 51| 7.2| 0.0| 0.0|      276|Portugal|\n",
      "| 12|  7|  5|  sep|sat|92.8| 73.2|19.3| 38| 4.0| 0.0| 0.0|      285|Portugal|\n",
      "| 13|  6|  5|  aug|fri|63.5| 70.8|17.0| 72| 6.7| 0.0| 0.0|      678|Portugal|\n",
      "| 14|  6|  5|  sep|mon|90.9|126.5|21.3| 42| 2.2| 0.0| 0.0|      772|Portugal|\n",
      "| 15|  6|  5|  sep|wed|92.9|133.3|26.4| 21| 4.5| 0.0| 0.0|      619|Portugal|\n",
      "| 16|  6|  5|  sep|fri|93.3|141.2|22.9| 44| 5.4| 0.0| 0.0|      220|Portugal|\n",
      "| 17|  5|  5|  mar|sat|91.7| 35.8|15.1| 27| 5.4| 0.0| 0.0|      895|Portugal|\n",
      "| 18|  8|  5|  oct|mon|84.9| 32.8|16.7| 47| 4.9| 0.0| 0.0|      935|Portugal|\n",
      "| 19|  6|  4|  mar|wed|89.2| 27.9|15.9| 35| 4.0| 0.0| 0.0|      173|Portugal|\n",
      "| 20|  6|  4|  apr|sat|86.3| 27.4| 9.3| 44| 4.5| 0.0| 0.0|      969|Portugal|\n",
      "+---+---+---+-----+---+----+-----+----+---+----+----+----+---------+--------+\n",
      "only showing top 20 rows\n",
      "\n"
     ]
    }
   ],
   "source": [
    "# create sparkSession\n",
    "spark = SparkSession.builder.appName(\"csv_example\").getOrCreate()\n",
    "\n",
    "# read CSV document\n",
    "df1 = spark.read.csv('weather.csv', header=True, inferSchema=True)\n",
    "df2 = spark.read.csv('fires.csv', header=True, inferSchema=True)\n",
    "\n",
    "# print DataFrame\n",
    "print(\"Weather DataFrame:\")\n",
    "df1.show()\n",
    "\n",
    "print(\"Fires DataFrame:\")\n",
    "df2.show()"
   ]
  },
  {
   "cell_type": "markdown",
   "id": "4588127c",
   "metadata": {},
   "source": [
    "Find missing data"
   ]
  },
  {
   "cell_type": "code",
   "execution_count": 6,
   "id": "2d3f038d",
   "metadata": {},
   "outputs": [
    {
     "name": "stdout",
     "output_type": "stream",
     "text": [
      "+---+---+---+---+---+-------+\n",
      "|num|  X|  Y| DC|ISI|country|\n",
      "+---+---+---+---+---+-------+\n",
      "|  0|  0|  0|  0|  0|      0|\n",
      "+---+---+---+---+---+-------+\n",
      "\n",
      "+---+---+---+-----+---+----+---+----+---+----+----+----+---------+-------+\n",
      "|num|  X|  Y|month|day|FFMC|DMC|temp| RH|wind|rain|area|passenger|country|\n",
      "+---+---+---+-----+---+----+---+----+---+----+----+----+---------+-------+\n",
      "|  0|  0|  0|    0|  0| 369|369|   0|  0|   0|   0|   0|        0|      0|\n",
      "+---+---+---+-----+---+----+---+----+---+----+----+----+---------+-------+\n",
      "\n",
      "Shape df1: (886, 6)\n",
      "Shape df2: (886, 14)\n",
      "df1 dtype: [('num', 'int'), ('X', 'int'), ('Y', 'int'), ('DC', 'double'), ('ISI', 'double'), ('country', 'string')]\n",
      "df2 dtype: [('num', 'int'), ('X', 'int'), ('Y', 'int'), ('month', 'string'), ('day', 'string'), ('FFMC', 'double'), ('DMC', 'double'), ('temp', 'double'), ('RH', 'int'), ('wind', 'double'), ('rain', 'double'), ('area', 'double'), ('passenger', 'int'), ('country', 'string')]\n",
      "df3 dtype: [('X', 'int'), ('Y', 'int'), ('num', 'int'), ('country', 'string'), ('DC', 'double'), ('ISI', 'double'), ('month', 'string'), ('day', 'string'), ('FFMC', 'double'), ('DMC', 'double'), ('temp', 'double'), ('RH', 'int'), ('wind', 'double'), ('rain', 'double'), ('area', 'double'), ('passenger', 'int')]\n"
     ]
    }
   ],
   "source": [
    "# check missing value\n",
    "df1.select([(col(c).isNull().cast(\"int\")).alias(c) for c in df1.columns]).agg(*[ _sum(c).alias(c) for c in df1.columns ]).show()\n",
    "df2.select([(col(c).isNull().cast(\"int\")).alias(c) for c in df2.columns]).agg(*[ _sum(c).alias(c) for c in df2.columns ]).show()\n",
    "\n",
    "# print the shape of DataFrame\n",
    "print(\"Shape df1: ({}, {})\".format(df1.count(), len(df1.columns)))\n",
    "print(\"Shape df2: ({}, {})\".format(df2.count(), len(df2.columns)))\n",
    "\n",
    "# print the datatype of DataFrame\n",
    "print(\"df1 dtype:\", df1.dtypes)\n",
    "print(\"df2 dtype:\", df2.dtypes)\n",
    "\n",
    "# integret DataFrame 1 and DataFrame 2\n",
    "df3 = df1.join(df2, on=['X', 'Y', 'num', 'country'], how='outer')\n",
    "\n",
    "# print datatype of integreted DataFrame(df3)\n",
    "print(\"df3 dtype:\", df3.dtypes)"
   ]
  },
  {
   "cell_type": "markdown",
   "id": "1ccae339",
   "metadata": {},
   "source": [
    "按国家统计缺失行数\n",
    "找出包含至少一个缺失值的行"
   ]
  },
  {
   "cell_type": "code",
   "execution_count": 7,
   "id": "deee3a14",
   "metadata": {},
   "outputs": [
    {
     "ename": "AnalysisException",
     "evalue": "Reference 'count' is ambiguous, could be: count, count.",
     "output_type": "error",
     "traceback": [
      "\u001b[0;31m---------------------------------------------------------------------------\u001b[0m",
      "\u001b[0;31mAnalysisException\u001b[0m                         Traceback (most recent call last)",
      "Input \u001b[0;32mIn [7]\u001b[0m, in \u001b[0;36m<cell line: 15>\u001b[0;34m()\u001b[0m\n\u001b[1;32m      5\u001b[0m missing_rows_per_country \u001b[38;5;241m=\u001b[39m df3\u001b[38;5;241m.\u001b[39mfilter(\n\u001b[1;32m      6\u001b[0m     col(\u001b[38;5;124m\"\u001b[39m\u001b[38;5;124mcountry\u001b[39m\u001b[38;5;124m\"\u001b[39m)\u001b[38;5;241m.\u001b[39misNotNull() \u001b[38;5;241m&\u001b[39m (\n\u001b[1;32m      7\u001b[0m         col(\u001b[38;5;124m\"\u001b[39m\u001b[38;5;124mX\u001b[39m\u001b[38;5;124m\"\u001b[39m)\u001b[38;5;241m.\u001b[39misNull() \u001b[38;5;241m|\u001b[39m\n\u001b[0;32m   (...)\u001b[0m\n\u001b[1;32m     11\u001b[0m     )\n\u001b[1;32m     12\u001b[0m )\u001b[38;5;241m.\u001b[39mgroupBy(\u001b[38;5;124m\"\u001b[39m\u001b[38;5;124mcountry\u001b[39m\u001b[38;5;124m\"\u001b[39m)\u001b[38;5;241m.\u001b[39mcount()\n\u001b[1;32m     14\u001b[0m \u001b[38;5;66;03m# 计算缺失数据的比例\u001b[39;00m\n\u001b[1;32m     15\u001b[0m missing_ratio_per_country \u001b[38;5;241m=\u001b[39m \u001b[43mmissing_rows_per_country\u001b[49m\u001b[38;5;241;43m.\u001b[39;49m\u001b[43mjoin\u001b[49m\u001b[43m(\u001b[49m\n\u001b[1;32m     16\u001b[0m \u001b[43m    \u001b[49m\u001b[43mtotal_rows_per_country\u001b[49m\u001b[43m,\u001b[49m\n\u001b[1;32m     17\u001b[0m \u001b[43m    \u001b[49m\u001b[43mon\u001b[49m\u001b[38;5;241;43m=\u001b[39;49m\u001b[38;5;124;43m\"\u001b[39;49m\u001b[38;5;124;43mcountry\u001b[39;49m\u001b[38;5;124;43m\"\u001b[39;49m\u001b[43m,\u001b[49m\n\u001b[1;32m     18\u001b[0m \u001b[43m    \u001b[49m\u001b[43mhow\u001b[49m\u001b[38;5;241;43m=\u001b[39;49m\u001b[38;5;124;43m\"\u001b[39;49m\u001b[38;5;124;43minner\u001b[39;49m\u001b[38;5;124;43m\"\u001b[39;49m\n\u001b[0;32m---> 19\u001b[0m \u001b[43m)\u001b[49m\u001b[38;5;241;43m.\u001b[39;49m\u001b[43mwithColumn\u001b[49m\u001b[43m(\u001b[49m\n\u001b[1;32m     20\u001b[0m \u001b[43m    \u001b[49m\u001b[38;5;124;43m\"\u001b[39;49m\u001b[38;5;124;43mmissing_ratio\u001b[39;49m\u001b[38;5;124;43m\"\u001b[39;49m\u001b[43m,\u001b[49m\n\u001b[1;32m     21\u001b[0m \u001b[43m    \u001b[49m\u001b[43mcol\u001b[49m\u001b[43m(\u001b[49m\u001b[38;5;124;43m\"\u001b[39;49m\u001b[38;5;124;43mcount\u001b[39;49m\u001b[38;5;124;43m\"\u001b[39;49m\u001b[43m)\u001b[49m\u001b[43m \u001b[49m\u001b[38;5;241;43m/\u001b[39;49m\u001b[43m \u001b[49m\u001b[43mcol\u001b[49m\u001b[43m(\u001b[49m\u001b[38;5;124;43m\"\u001b[39;49m\u001b[38;5;124;43mcount\u001b[39;49m\u001b[38;5;124;43m\"\u001b[39;49m\u001b[43m)\u001b[49m\n\u001b[1;32m     22\u001b[0m \u001b[43m)\u001b[49m\u001b[38;5;241m.\u001b[39mselect(\n\u001b[1;32m     23\u001b[0m     \u001b[38;5;124m\"\u001b[39m\u001b[38;5;124mcountry\u001b[39m\u001b[38;5;124m\"\u001b[39m,\n\u001b[1;32m     24\u001b[0m     \u001b[38;5;124m\"\u001b[39m\u001b[38;5;124mmissing_ratio\u001b[39m\u001b[38;5;124m\"\u001b[39m\n\u001b[1;32m     25\u001b[0m )\u001b[38;5;241m.\u001b[39morderBy(col(\u001b[38;5;124m\"\u001b[39m\u001b[38;5;124mmissing_ratio\u001b[39m\u001b[38;5;124m\"\u001b[39m)\u001b[38;5;241m.\u001b[39mdesc())\n\u001b[1;32m     27\u001b[0m \u001b[38;5;66;03m# 显示结果\u001b[39;00m\n\u001b[1;32m     28\u001b[0m missing_ratio_per_country\u001b[38;5;241m.\u001b[39mshow()\n",
      "File \u001b[0;32m~/.local/lib/python3.10/site-packages/pyspark/sql/dataframe.py:2478\u001b[0m, in \u001b[0;36mDataFrame.withColumn\u001b[0;34m(self, colName, col)\u001b[0m\n\u001b[1;32m   2476\u001b[0m \u001b[38;5;28;01mif\u001b[39;00m \u001b[38;5;129;01mnot\u001b[39;00m \u001b[38;5;28misinstance\u001b[39m(col, Column):\n\u001b[1;32m   2477\u001b[0m     \u001b[38;5;28;01mraise\u001b[39;00m \u001b[38;5;167;01mTypeError\u001b[39;00m(\u001b[38;5;124m\"\u001b[39m\u001b[38;5;124mcol should be Column\u001b[39m\u001b[38;5;124m\"\u001b[39m)\n\u001b[0;32m-> 2478\u001b[0m \u001b[38;5;28;01mreturn\u001b[39;00m DataFrame(\u001b[38;5;28;43mself\u001b[39;49m\u001b[38;5;241;43m.\u001b[39;49m\u001b[43m_jdf\u001b[49m\u001b[38;5;241;43m.\u001b[39;49m\u001b[43mwithColumn\u001b[49m\u001b[43m(\u001b[49m\u001b[43mcolName\u001b[49m\u001b[43m,\u001b[49m\u001b[43m \u001b[49m\u001b[43mcol\u001b[49m\u001b[38;5;241;43m.\u001b[39;49m\u001b[43m_jc\u001b[49m\u001b[43m)\u001b[49m, \u001b[38;5;28mself\u001b[39m\u001b[38;5;241m.\u001b[39msql_ctx)\n",
      "File \u001b[0;32m~/.local/lib/python3.10/site-packages/py4j/java_gateway.py:1321\u001b[0m, in \u001b[0;36mJavaMember.__call__\u001b[0;34m(self, *args)\u001b[0m\n\u001b[1;32m   1315\u001b[0m command \u001b[38;5;241m=\u001b[39m proto\u001b[38;5;241m.\u001b[39mCALL_COMMAND_NAME \u001b[38;5;241m+\u001b[39m\\\n\u001b[1;32m   1316\u001b[0m     \u001b[38;5;28mself\u001b[39m\u001b[38;5;241m.\u001b[39mcommand_header \u001b[38;5;241m+\u001b[39m\\\n\u001b[1;32m   1317\u001b[0m     args_command \u001b[38;5;241m+\u001b[39m\\\n\u001b[1;32m   1318\u001b[0m     proto\u001b[38;5;241m.\u001b[39mEND_COMMAND_PART\n\u001b[1;32m   1320\u001b[0m answer \u001b[38;5;241m=\u001b[39m \u001b[38;5;28mself\u001b[39m\u001b[38;5;241m.\u001b[39mgateway_client\u001b[38;5;241m.\u001b[39msend_command(command)\n\u001b[0;32m-> 1321\u001b[0m return_value \u001b[38;5;241m=\u001b[39m \u001b[43mget_return_value\u001b[49m\u001b[43m(\u001b[49m\n\u001b[1;32m   1322\u001b[0m \u001b[43m    \u001b[49m\u001b[43manswer\u001b[49m\u001b[43m,\u001b[49m\u001b[43m \u001b[49m\u001b[38;5;28;43mself\u001b[39;49m\u001b[38;5;241;43m.\u001b[39;49m\u001b[43mgateway_client\u001b[49m\u001b[43m,\u001b[49m\u001b[43m \u001b[49m\u001b[38;5;28;43mself\u001b[39;49m\u001b[38;5;241;43m.\u001b[39;49m\u001b[43mtarget_id\u001b[49m\u001b[43m,\u001b[49m\u001b[43m \u001b[49m\u001b[38;5;28;43mself\u001b[39;49m\u001b[38;5;241;43m.\u001b[39;49m\u001b[43mname\u001b[49m\u001b[43m)\u001b[49m\n\u001b[1;32m   1324\u001b[0m \u001b[38;5;28;01mfor\u001b[39;00m temp_arg \u001b[38;5;129;01min\u001b[39;00m temp_args:\n\u001b[1;32m   1325\u001b[0m     temp_arg\u001b[38;5;241m.\u001b[39m_detach()\n",
      "File \u001b[0;32m~/.local/lib/python3.10/site-packages/pyspark/sql/utils.py:117\u001b[0m, in \u001b[0;36mcapture_sql_exception.<locals>.deco\u001b[0;34m(*a, **kw)\u001b[0m\n\u001b[1;32m    113\u001b[0m converted \u001b[38;5;241m=\u001b[39m convert_exception(e\u001b[38;5;241m.\u001b[39mjava_exception)\n\u001b[1;32m    114\u001b[0m \u001b[38;5;28;01mif\u001b[39;00m \u001b[38;5;129;01mnot\u001b[39;00m \u001b[38;5;28misinstance\u001b[39m(converted, UnknownException):\n\u001b[1;32m    115\u001b[0m     \u001b[38;5;66;03m# Hide where the exception came from that shows a non-Pythonic\u001b[39;00m\n\u001b[1;32m    116\u001b[0m     \u001b[38;5;66;03m# JVM exception message.\u001b[39;00m\n\u001b[0;32m--> 117\u001b[0m     \u001b[38;5;28;01mraise\u001b[39;00m converted \u001b[38;5;28;01mfrom\u001b[39;00m \u001b[38;5;28mNone\u001b[39m\n\u001b[1;32m    118\u001b[0m \u001b[38;5;28;01melse\u001b[39;00m:\n\u001b[1;32m    119\u001b[0m     \u001b[38;5;28;01mraise\u001b[39;00m\n",
      "\u001b[0;31mAnalysisException\u001b[0m: Reference 'count' is ambiguous, could be: count, count."
     ]
    }
   ],
   "source": [
    "# 计算每个国家的总行数\n",
    "total_rows_per_country = df3.groupBy(\"country\").count()\n",
    "\n",
    "# 计算每个国家含有缺失值的行数\n",
    "missing_rows_per_country = df3.filter(\n",
    "    col(\"country\").isNotNull() & (\n",
    "        col(\"X\").isNull() |\n",
    "        col(\"Y\").isNull() |\n",
    "        col(\"num\").isNull() |\n",
    "        col(\"country\").isNull()\n",
    "    )\n",
    ").groupBy(\"country\").count()\n",
    "\n",
    "# 计算缺失数据的比例\n",
    "missing_ratio_per_country = missing_rows_per_country.join(\n",
    "    total_rows_per_country,\n",
    "    on=\"country\",\n",
    "    how=\"inner\"\n",
    ").withColumn(\n",
    "    \"missing_ratio\",\n",
    "    col(\"count\") / col(\"count\")\n",
    ").select(\n",
    "    \"country\",\n",
    "    \"missing_ratio\"\n",
    ").orderBy(col(\"missing_ratio\").desc())\n",
    "\n",
    "# 显示结果\n",
    "missing_ratio_per_country.show()"
   ]
  },
  {
   "cell_type": "code",
   "execution_count": null,
   "id": "d5248f70",
   "metadata": {},
   "outputs": [],
   "source": []
  }
 ],
 "metadata": {
  "kernelspec": {
   "display_name": "Python 3 (ipykernel)",
   "language": "python",
   "name": "python3"
  },
  "language_info": {
   "codemirror_mode": {
    "name": "ipython",
    "version": 3
   },
   "file_extension": ".py",
   "mimetype": "text/x-python",
   "name": "python",
   "nbconvert_exporter": "python",
   "pygments_lexer": "ipython3",
   "version": "3.10.4"
  }
 },
 "nbformat": 4,
 "nbformat_minor": 5
}
